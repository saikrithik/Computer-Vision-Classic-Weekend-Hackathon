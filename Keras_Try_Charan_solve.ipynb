{
 "cells": [
  {
   "cell_type": "markdown",
   "metadata": {},
   "source": [
    "# Basic model training with keras\n",
    "####  ----------------------------------------------------------------------------- Sai Charan"
   ]
  },
  {
   "cell_type": "code",
   "execution_count": null,
   "metadata": {
    "colab": {
     "base_uri": "https://localhost:8080/",
     "height": 1000
    },
    "colab_type": "code",
    "id": "Dkxju9wc-Wv_",
    "outputId": "7d11af96-bb79-48bc-dcdf-29f22580dfb4"
   },
   "outputs": [],
   "source": [
    "!unzip \"/content/drive/My Drive/Data.zip\""
   ]
  },
  {
   "cell_type": "code",
   "execution_count": null,
   "metadata": {
    "colab": {},
    "colab_type": "code",
    "id": "jQ-yghDPDb5_"
   },
   "outputs": [],
   "source": [
    "import tensorflow as tf\n",
    "from tensorflow.keras.preprocessing.image import ImageDataGenerator"
   ]
  },
  {
   "cell_type": "code",
   "execution_count": null,
   "metadata": {
    "colab": {},
    "colab_type": "code",
    "id": "C72qI63sDqU8"
   },
   "outputs": [],
   "source": [
    "datagen = ImageDataGenerator(rescale=1/255,fill_mode = \"nearest\",validation_split=0.3)"
   ]
  },
  {
   "cell_type": "code",
   "execution_count": null,
   "metadata": {
    "colab": {
     "base_uri": "https://localhost:8080/",
     "height": 50
    },
    "colab_type": "code",
    "id": "yvcrCla7GNK7",
    "outputId": "67bc17e9-2a68-42ef-bf68-e963df8c8ce6"
   },
   "outputs": [
    {
     "name": "stdout",
     "output_type": "stream",
     "text": [
      "Found 6630 images belonging to 2 classes.\n",
      "Found 2841 images belonging to 2 classes.\n"
     ]
    }
   ],
   "source": [
    "train_gen = datagen.flow_from_directory(\"/content/Data/Train\",target_size = (150,150),class_mode = 'binary',subset = 'training')\n",
    "test_gen = datagen.flow_from_directory(\"/content/Data/Train\",target_size=(150,150),class_mode = 'binary',subset = 'validation')"
   ]
  },
  {
   "cell_type": "code",
   "execution_count": null,
   "metadata": {
    "colab": {},
    "colab_type": "code",
    "id": "J5CP6ADUHvg3"
   },
   "outputs": [],
   "source": [
    "model = tf.keras.models.Sequential([\n",
    "        tf.keras.layers.Conv2D(16, (2,2), activation = 'relu', input_shape = (150,150,3)),\n",
    "        tf.keras.layers.MaxPool2D(2,),\n",
    "        tf.keras.layers.Conv2D(32,(2,2),activation = 'relu'),\n",
    "        tf.keras.layers.MaxPool2D(2,2), \n",
    "        tf.keras.layers.Conv2D(64, (2,2), activation='relu'), \n",
    "        tf.keras.layers.MaxPool2D(2,2),\n",
    "        tf.keras.layers.Conv2D(64, (2,2), activation='relu'), \n",
    "        tf.keras.layers.MaxPool2D(2,2),\n",
    "        tf.keras.layers.Conv2D(64, (2,2), activation='relu'),\n",
    "        tf.keras.layers.MaxPool2D(2,2),\n",
    "        tf.keras.layers.Flatten(), \n",
    "        tf.keras.layers.Dense(1024, activation='relu'), \n",
    "        tf.keras.layers.Dense(512, activation='relu'), \n",
    "        tf.keras.layers.Dense(1, activation='sigmoid')  \n",
    "])"
   ]
  },
  {
   "cell_type": "code",
   "execution_count": null,
   "metadata": {
    "colab": {},
    "colab_type": "code",
    "id": "ABlKvAIDKjEb"
   },
   "outputs": [],
   "source": [
    "model.compile(optimizer = 'adamax',metrics=['accuracy'],loss = 'binary_crossentropy')"
   ]
  },
  {
   "cell_type": "code",
   "execution_count": null,
   "metadata": {
    "colab": {
     "base_uri": "https://localhost:8080/",
     "height": 554
    },
    "colab_type": "code",
    "id": "YZ2YbW5OLQgs",
    "outputId": "74fb7a4d-1305-415e-8a8a-77efcf77d895"
   },
   "outputs": [
    {
     "name": "stdout",
     "output_type": "stream",
     "text": [
      "Epoch 1/20\n",
      "208/208 [==============================] - 27s 130ms/step - loss: 0.6749 - accuracy: 0.5733 - val_loss: 0.6669 - val_accuracy: 0.5780\n",
      "Epoch 2/20\n",
      "208/208 [==============================] - 27s 129ms/step - loss: 0.6132 - accuracy: 0.6617 - val_loss: 0.5714 - val_accuracy: 0.7068\n",
      "Epoch 3/20\n",
      "208/208 [==============================] - 27s 129ms/step - loss: 0.5530 - accuracy: 0.7131 - val_loss: 0.6401 - val_accuracy: 0.6311\n",
      "Epoch 4/20\n",
      "208/208 [==============================] - 27s 131ms/step - loss: 0.5022 - accuracy: 0.7540 - val_loss: 0.5056 - val_accuracy: 0.7462\n",
      "Epoch 5/20\n",
      "208/208 [==============================] - 27s 128ms/step - loss: 0.4627 - accuracy: 0.7840 - val_loss: 0.5220 - val_accuracy: 0.7501\n",
      "Epoch 6/20\n",
      "208/208 [==============================] - 27s 129ms/step - loss: 0.4330 - accuracy: 0.7970 - val_loss: 0.4849 - val_accuracy: 0.7557\n",
      "Epoch 7/20\n",
      "208/208 [==============================] - 27s 129ms/step - loss: 0.3967 - accuracy: 0.8246 - val_loss: 0.4777 - val_accuracy: 0.7775\n",
      "Epoch 8/20\n",
      "208/208 [==============================] - 27s 128ms/step - loss: 0.3492 - accuracy: 0.8413 - val_loss: 0.5221 - val_accuracy: 0.7656\n",
      "Epoch 9/20\n",
      "208/208 [==============================] - 27s 129ms/step - loss: 0.3279 - accuracy: 0.8591 - val_loss: 0.4815 - val_accuracy: 0.7895\n",
      "Epoch 10/20\n",
      "208/208 [==============================] - 27s 128ms/step - loss: 0.2981 - accuracy: 0.8729 - val_loss: 0.4895 - val_accuracy: 0.7990\n",
      "Epoch 11/20\n",
      "208/208 [==============================] - 27s 128ms/step - loss: 0.2598 - accuracy: 0.8879 - val_loss: 0.5534 - val_accuracy: 0.7832\n",
      "Epoch 12/20\n",
      "208/208 [==============================] - 27s 128ms/step - loss: 0.2220 - accuracy: 0.9090 - val_loss: 0.5330 - val_accuracy: 0.7888\n",
      "Epoch 13/20\n",
      "208/208 [==============================] - 27s 130ms/step - loss: 0.2025 - accuracy: 0.9189 - val_loss: 0.5574 - val_accuracy: 0.7909\n",
      "Epoch 14/20\n",
      "208/208 [==============================] - 27s 128ms/step - loss: 0.1646 - accuracy: 0.9356 - val_loss: 0.5994 - val_accuracy: 0.7874\n",
      "Epoch 15/20\n",
      "208/208 [==============================] - 27s 129ms/step - loss: 0.1462 - accuracy: 0.9425 - val_loss: 0.6897 - val_accuracy: 0.7705\n",
      "Epoch 16/20\n",
      "142/208 [===================>..........] - ETA: 6s - loss: 0.1159 - accuracy: 0.9591"
     ]
    }
   ],
   "source": [
    "history = model.fit_generator(train_gen,epochs = 20,validation_data=test_gen,verbose=1)"
   ]
  },
  {
   "cell_type": "code",
   "execution_count": null,
   "metadata": {
    "colab": {
     "base_uri": "https://localhost:8080/",
     "height": 282
    },
    "colab_type": "code",
    "id": "PtC-luSdLbLT",
    "outputId": "3b2765f2-36e8-4d34-d58a-bc1569075670"
   },
   "outputs": [
    {
     "data": {
      "image/png": "[encoded data removed]",
      "text/plain": [
       "<Figure size 432x288 with 1 Axes>"
      ]
     },
     "metadata": {
      "needs_background": "light",
      "tags": []
     },
     "output_type": "display_data"
    },
    {
     "data": {
      "text/plain": [
       "<Figure size 432x288 with 0 Axes>"
      ]
     },
     "metadata": {
      "tags": []
     },
     "output_type": "display_data"
    }
   ],
   "source": [
    "\n",
    "import matplotlib.pyplot as plt\n",
    "acc = history.history['accuracy']\n",
    "loss = history.history['loss']\n",
    "val_acc = history.history['val_accuracy']\n",
    "val_loss = history.history['val_loss']\n",
    "\n",
    "epochs = range(len(acc))\n",
    "plt.plot(epochs,loss,'r',label = 'loss')\n",
    "plt.plot(epochs,val_loss,'y',label = 'validation loss')\n",
    "plt.legend(loc=0)\n",
    "plt.figure()\n",
    "plt.show()"
   ]
  },
  {
   "cell_type": "code",
   "execution_count": null,
   "metadata": {
    "colab": {},
    "colab_type": "code",
    "id": "I0Zr0qNcWOeK"
   },
   "outputs": [],
   "source": [
    "import pandas as pd\n",
    "test = pd.read_csv(\"/content/Data/Sample_Submission.csv\")"
   ]
  },
  {
   "cell_type": "code",
   "execution_count": null,
   "metadata": {
    "colab": {},
    "colab_type": "code",
    "id": "rPg5eWUPWWyr"
   },
   "outputs": [],
   "source": [
    "preds = []\n",
    "from tensorflow.keras.preprocessing import image\n",
    "import numpy as np\n",
    "for i in test['File_Name'].values:\n",
    "  k = image.load_img('/content/Data/Test/'+i,target_size = (150,150))\n",
    "  t = image.img_to_array(k)\n",
    "  t = np.expand_dims(t,axis = 0)\n",
    "  bin = model.predict(t)\n",
    "  preds.append(int(bin))"
   ]
  },
  {
   "cell_type": "code",
   "execution_count": null,
   "metadata": {
    "colab": {},
    "colab_type": "code",
    "id": "0aGI9IJYWexQ"
   },
   "outputs": [],
   "source": [
    "test['Category'] = preds"
   ]
  },
  {
   "cell_type": "code",
   "execution_count": null,
   "metadata": {
    "colab": {
     "base_uri": "https://localhost:8080/",
     "height": 402
    },
    "colab_type": "code",
    "id": "R0a1_xJwXZZr",
    "outputId": "06a34162-3854-4d61-c830-c4ae2f085796"
   },
   "outputs": [
    {
     "data": {
      "text/html": [
       "<div>\n",
       "<style scoped>\n",
       "    .dataframe tbody tr th:only-of-type {\n",
       "        vertical-align: middle;\n",
       "    }\n",
       "\n",
       "    .dataframe tbody tr th {\n",
       "        vertical-align: top;\n",
       "    }\n",
       "\n",
       "    .dataframe thead th {\n",
       "        text-align: right;\n",
       "    }\n",
       "</style>\n",
       "<table border=\"1\" class=\"dataframe\">\n",
       "  <thead>\n",
       "    <tr style=\"text-align: right;\">\n",
       "      <th></th>\n",
       "      <th>File_Name</th>\n",
       "      <th>Category</th>\n",
       "    </tr>\n",
       "  </thead>\n",
       "  <tbody>\n",
       "    <tr>\n",
       "      <th>0</th>\n",
       "      <td>8121.jpg</td>\n",
       "      <td>0</td>\n",
       "    </tr>\n",
       "    <tr>\n",
       "      <th>1</th>\n",
       "      <td>15486.jpg</td>\n",
       "      <td>1</td>\n",
       "    </tr>\n",
       "    <tr>\n",
       "      <th>2</th>\n",
       "      <td>8132.jpg</td>\n",
       "      <td>0</td>\n",
       "    </tr>\n",
       "    <tr>\n",
       "      <th>3</th>\n",
       "      <td>16297.jpg</td>\n",
       "      <td>1</td>\n",
       "    </tr>\n",
       "    <tr>\n",
       "      <th>4</th>\n",
       "      <td>20838.jpg</td>\n",
       "      <td>1</td>\n",
       "    </tr>\n",
       "    <tr>\n",
       "      <th>...</th>\n",
       "      <td>...</td>\n",
       "      <td>...</td>\n",
       "    </tr>\n",
       "    <tr>\n",
       "      <th>4054</th>\n",
       "      <td>15376.jpg</td>\n",
       "      <td>0</td>\n",
       "    </tr>\n",
       "    <tr>\n",
       "      <th>4055</th>\n",
       "      <td>19489.jpg</td>\n",
       "      <td>1</td>\n",
       "    </tr>\n",
       "    <tr>\n",
       "      <th>4056</th>\n",
       "      <td>9762.jpg</td>\n",
       "      <td>0</td>\n",
       "    </tr>\n",
       "    <tr>\n",
       "      <th>4057</th>\n",
       "      <td>1423.jpg</td>\n",
       "      <td>0</td>\n",
       "    </tr>\n",
       "    <tr>\n",
       "      <th>4058</th>\n",
       "      <td>10488.jpg</td>\n",
       "      <td>0</td>\n",
       "    </tr>\n",
       "  </tbody>\n",
       "</table>\n",
       "<p>4059 rows × 2 columns</p>\n",
       "</div>"
      ],
      "text/plain": [
       "      File_Name  Category\n",
       "0      8121.jpg         0\n",
       "1     15486.jpg         1\n",
       "2      8132.jpg         0\n",
       "3     16297.jpg         1\n",
       "4     20838.jpg         1\n",
       "...         ...       ...\n",
       "4054  15376.jpg         0\n",
       "4055  19489.jpg         1\n",
       "4056   9762.jpg         0\n",
       "4057   1423.jpg         0\n",
       "4058  10488.jpg         0\n",
       "\n",
       "[4059 rows x 2 columns]"
      ]
     },
     "execution_count": 103,
     "metadata": {
      "tags": []
     },
     "output_type": "execute_result"
    }
   ],
   "source": [
    "test"
   ]
  },
  {
   "cell_type": "code",
   "execution_count": null,
   "metadata": {
    "colab": {},
    "colab_type": "code",
    "id": "nv-KJxqdXb3e"
   },
   "outputs": [],
   "source": [
    "test.to_excel('submit5.xlsx',index = False)"
   ]
  },
  {
   "cell_type": "code",
   "execution_count": null,
   "metadata": {
    "colab": {},
    "colab_type": "code",
    "id": "2-Qj-OjzXg7a"
   },
   "outputs": [],
   "source": []
  }
 ],
 "metadata": {
  "accelerator": "GPU",
  "colab": {
   "collapsed_sections": [],
   "name": "hackathon1.2.ipynb",
   "provenance": []
  },
  "kernelspec": {
   "display_name": "Python 3",
   "language": "python",
   "name": "python3"
  },
  "language_info": {
   "codemirror_mode": {
    "name": "ipython",
    "version": 3
   },
   "file_extension": ".py",
   "mimetype": "text/x-python",
   "name": "python",
   "nbconvert_exporter": "python",
   "pygments_lexer": "ipython3",
   "version": "3.7.6"
  }
 },
 "nbformat": 4,
 "nbformat_minor": 1
}
